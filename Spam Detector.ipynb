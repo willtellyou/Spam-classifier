{
  "cells": [
    {
      "cell_type": "markdown",
      "source": [
        "**Importing Necessary libraries for implementation**"
      ],
      "metadata": {
        "id": "AOFTf-I5eCzO"
      }
    },
    {
      "cell_type": "code",
      "source": [
        "from __future__ import print_function, division\n",
        "from builtins import range"
      ],
      "metadata": {
        "id": "hm7vIe0LzZ5G"
      },
      "execution_count": 1,
      "outputs": []
    },
    {
      "cell_type": "code",
      "source": [
        "from sklearn.naive_bayes import MultinomialNB\n",
        "import pandas as pd\n",
        "import numpy as np"
      ],
      "metadata": {
        "id": "KEFqgTb4zfo_"
      },
      "execution_count": 2,
      "outputs": []
    },
    {
      "cell_type": "markdown",
      "source": [
        "**uploading dataset**\n",
        "*Link to dataset: https://archive.ics.uci.edu/ml/datasets/Spambase*"
      ],
      "metadata": {
        "id": "tjfDZpvweeMd"
      }
    },
    {
      "cell_type": "code",
      "source": [
        "data = pd.read_csv('spambase.csv').values # use pandas for convenience\n",
        "np.random.shuffle(data)# shuffle each row in-place, but preserve the row"
      ],
      "metadata": {
        "id": "x2E306cs15_M"
      },
      "execution_count": 3,
      "outputs": []
    },
    {
      "cell_type": "code",
      "source": [
        "X = data[:,:48]\n",
        "Y = data[:,-1]"
      ],
      "metadata": {
        "id": "rY9jCWoI0Kl9"
      },
      "execution_count": 4,
      "outputs": []
    },
    {
      "cell_type": "markdown",
      "source": [
        "last 100 rows will be test"
      ],
      "metadata": {
        "id": "GgHz7-GCfETh"
      }
    },
    {
      "cell_type": "code",
      "source": [
        "Xtrain = X[:-100,]\n",
        "Ytrain = Y[:-100,]\n",
        "Xtest = X[-100:,]\n",
        "Ytest = Y[-100:,]"
      ],
      "metadata": {
        "id": "fcOUNcSe2Iw7"
      },
      "execution_count": 5,
      "outputs": []
    },
    {
      "cell_type": "markdown",
      "source": [
        "**Using NaiveBayes**\n",
        "\n",
        "*Note: technically multinomial NB is for \"counts\", but the documentation says\n",
        "it will work for other types of \"counts\", like tf-idf, so it should\n",
        "also work for our \"word proportions\"*"
      ],
      "metadata": {
        "id": "4Treqr_SfT20"
      }
    },
    {
      "cell_type": "code",
      "source": [
        "model = MultinomialNB()\n",
        "model.fit(Xtrain, Ytrain)\n",
        "print(\"Classification rate for NB:\", model.score(Xtest, Ytest))"
      ],
      "metadata": {
        "id": "toEm8zAp2M6c",
        "outputId": "9f15b98b-2fd6-4ddb-d5f1-054e4959da37",
        "colab": {
          "base_uri": "https://localhost:8080/"
        }
      },
      "execution_count": 6,
      "outputs": [
        {
          "output_type": "stream",
          "name": "stdout",
          "text": [
            "Classification rate for NB: 0.89\n"
          ]
        }
      ]
    },
    {
      "cell_type": "markdown",
      "source": [
        "*you can use ANY model!*"
      ],
      "metadata": {
        "id": "GlWy0-sGfsqS"
      }
    },
    {
      "cell_type": "code",
      "source": [
        "from sklearn.ensemble import AdaBoostClassifier"
      ],
      "metadata": {
        "id": "InDg1BEk2RmL"
      },
      "execution_count": 7,
      "outputs": []
    },
    {
      "cell_type": "code",
      "source": [
        "model = AdaBoostClassifier()\n",
        "model.fit(Xtrain, Ytrain)\n",
        "print(\"Classification rate for AdaBoost:\", model.score(Xtest, Ytest))"
      ],
      "metadata": {
        "id": "MNkHa5KN2WmN",
        "outputId": "a0b18423-7a07-41c2-886f-340dbe217f63",
        "colab": {
          "base_uri": "https://localhost:8080/"
        }
      },
      "execution_count": 8,
      "outputs": [
        {
          "output_type": "stream",
          "name": "stdout",
          "text": [
            "Classification rate for AdaBoost: 0.91\n"
          ]
        }
      ]
    }
  ],
  "metadata": {
    "colab": {
      "collapsed_sections": [],
      "name": "Welcome To Colaboratory",
      "provenance": []
    },
    "kernelspec": {
      "display_name": "Python 3",
      "name": "python3"
    }
  },
  "nbformat": 4,
  "nbformat_minor": 0
}